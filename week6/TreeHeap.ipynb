{
 "cells": [
  {
   "cell_type": "markdown",
   "id": "incorrect-capital",
   "metadata": {},
   "source": [
    "# Week6 Assignment\n",
    "\n",
    "Implement a class `TreeHeap` in `tree_heap.py`, supporting a simplified priority queue ADT as follow:\n",
    "\n",
    "|  Method | Function |\n",
    "|--:|:--|\n",
    "|`add(k)`| Inserts an item with key k |\n",
    "|`k = remove_min()`| Removes and returns the smallest key |\n",
    "|`k = min()` | Returns, but does not remove, the smallest key |\n",
    "|`len()` | Returns the number of keys stored in the heap |\n",
    "|`is_empty()` | Check the heap is empty or not |\n",
    "\n",
    "## Requirements\n",
    "***Use a linked structure*** for building the internal binary tree structure of the heap. The internal class `_Node` is defined as follows:\n",
    "\n",
    "```python\n",
    "class _Node:\n",
    "    __slots__ = '_element', '_left', '_right', '_parent'\n",
    "    def __init__(self, element, left, right, parent):\n",
    "        self._element = element\n",
    "        self._left = left\n",
    "        self._right = right\n",
    "        self._parent = parent\n",
    "```\n",
    "\n",
    "In addition to the priority queue ADT, `display()` method is provided, to show and check the internal structure of the heap, which will be useful while you're implementing the ADT methods.\n",
    "\n",
    "Inside the `TreeHeap` class, you're allowed to ***use only the three member variables***:\n",
    "```python\n",
    "__slots__ = '_root', '_last', '_size'\n",
    "```\n",
    "where `_root` is pointing to the root node, `_last` is pointing to the last node inside the heap, and `_size` is the number of items in the heap. You need to update those variables adequately when performing `add` and `remove_min` operations. \n",
    "\n",
    "Also, `add()` and `remove_min()` should be implemented with $O(log n)$ running time algorithm.\n",
    "\n",
    "It's allowed to add auxiliary internal member methods, as many as you want."
   ]
  },
  {
   "cell_type": "code",
   "execution_count": 1,
   "id": "obvious-importance",
   "metadata": {},
   "outputs": [],
   "source": [
    "from tree_heap import TreeHeap"
   ]
  },
  {
   "cell_type": "code",
   "execution_count": 2,
   "id": "specified-blackberry",
   "metadata": {},
   "outputs": [
    {
     "name": "stdout",
     "output_type": "stream",
     "text": [
      "        * 3  <- last\n",
      "    * 2\n",
      "        * 6\n",
      "* 1  <- root\n",
      "        * 5\n",
      "    * 4\n",
      "        * 7\n"
     ]
    }
   ],
   "source": [
    "th = TreeHeap()\n",
    "for i in range(7):\n",
    "    th.add(7-i)\n",
    "th.display()"
   ]
  },
  {
   "cell_type": "code",
   "execution_count": 3,
   "id": "chicken-blocking",
   "metadata": {},
   "outputs": [
    {
     "name": "stdout",
     "output_type": "stream",
     "text": [
      "1\n",
      "2\n",
      "3\n",
      "    * 6\n",
      "* 4  <- root\n",
      "    * 5\n",
      "        * 7  <- last\n"
     ]
    }
   ],
   "source": [
    "print(th.remove_min())\n",
    "print(th.remove_min())\n",
    "print(th.remove_min())\n",
    "\n",
    "th.display()"
   ]
  },
  {
   "cell_type": "code",
   "execution_count": 4,
   "id": "numeric-liberia",
   "metadata": {},
   "outputs": [],
   "source": [
    "import random\n",
    "\n",
    "sequence = list(range(10))\n",
    "random.shuffle(sequence)"
   ]
  },
  {
   "cell_type": "code",
   "execution_count": 5,
   "id": "figured-alberta",
   "metadata": {},
   "outputs": [
    {
     "name": "stdout",
     "output_type": "stream",
     "text": [
      "[4, 3, 6, 5, 2, 7, 9, 0, 1, 8]\n"
     ]
    }
   ],
   "source": [
    "print(sequence)"
   ]
  },
  {
   "cell_type": "code",
   "execution_count": 6,
   "id": "lyric-startup",
   "metadata": {},
   "outputs": [
    {
     "ename": "AttributeError",
     "evalue": "'NoneType' object has no attribute '_left'",
     "output_type": "error",
     "traceback": [
      "\u001b[1;31m---------------------------------------------------------------------------\u001b[0m",
      "\u001b[1;31mAttributeError\u001b[0m                            Traceback (most recent call last)",
      "\u001b[1;32mc:\\Users\\point\\python\\CSE203\\week6\\TreeHeap.ipynb Cell 7'\u001b[0m in \u001b[0;36m<cell line: 7>\u001b[1;34m()\u001b[0m\n\u001b[0;32m      <a href='vscode-notebook-cell:/c%3A/Users/point/python/CSE203/week6/TreeHeap.ipynb#ch0000006?line=5'>6</a>\u001b[0m sorted_sequence \u001b[39m=\u001b[39m []\n\u001b[0;32m      <a href='vscode-notebook-cell:/c%3A/Users/point/python/CSE203/week6/TreeHeap.ipynb#ch0000006?line=6'>7</a>\u001b[0m \u001b[39mwhile\u001b[39;00m \u001b[39mnot\u001b[39;00m th\u001b[39m.\u001b[39mis_empty():\n\u001b[1;32m----> <a href='vscode-notebook-cell:/c%3A/Users/point/python/CSE203/week6/TreeHeap.ipynb#ch0000006?line=7'>8</a>\u001b[0m     sorted_sequence\u001b[39m.\u001b[39mappend(th\u001b[39m.\u001b[39;49mremove_min())\n",
      "File \u001b[1;32mc:\\Users\\point\\python\\CSE203\\week6\\tree_heap.py:195\u001b[0m, in \u001b[0;36mTreeHeap.remove_min\u001b[1;34m(self)\u001b[0m\n\u001b[0;32m    <a href='file:///c%3A/Users/point/python/CSE203/week6/tree_heap.py?line=191'>192</a>\u001b[0m         buffer_node \u001b[39m=\u001b[39m buffer_node\u001b[39m.\u001b[39m_right\n\u001b[0;32m    <a href='file:///c%3A/Users/point/python/CSE203/week6/tree_heap.py?line=192'>193</a>\u001b[0m     \u001b[39mbreak\u001b[39;00m\n\u001b[1;32m--> <a href='file:///c%3A/Users/point/python/CSE203/week6/tree_heap.py?line=194'>195</a>\u001b[0m \u001b[39melif\u001b[39;00m buffer_node\u001b[39m.\u001b[39;49mis_left_child(buffer_node) \u001b[39mis\u001b[39;00m \u001b[39mFalse\u001b[39;00m:\n\u001b[0;32m    <a href='file:///c%3A/Users/point/python/CSE203/week6/tree_heap.py?line=195'>196</a>\u001b[0m     buffer_node \u001b[39m=\u001b[39m buffer_node\u001b[39m.\u001b[39m_parent\u001b[39m.\u001b[39m_left\n\u001b[0;32m    <a href='file:///c%3A/Users/point/python/CSE203/week6/tree_heap.py?line=196'>197</a>\u001b[0m     \u001b[39mwhile\u001b[39;00m \u001b[39m1\u001b[39m:\n",
      "File \u001b[1;32mc:\\Users\\point\\python\\CSE203\\week6\\tree_heap.py:19\u001b[0m, in \u001b[0;36mTreeHeap._Node.is_left_child\u001b[1;34m(self, node)\u001b[0m\n\u001b[0;32m     <a href='file:///c%3A/Users/point/python/CSE203/week6/tree_heap.py?line=17'>18</a>\u001b[0m \u001b[39mdef\u001b[39;00m \u001b[39mis_left_child\u001b[39m(\u001b[39mself\u001b[39m, node):\n\u001b[1;32m---> <a href='file:///c%3A/Users/point/python/CSE203/week6/tree_heap.py?line=18'>19</a>\u001b[0m     \u001b[39mif\u001b[39;00m \u001b[39mself\u001b[39;49m\u001b[39m.\u001b[39;49m_parent\u001b[39m.\u001b[39;49m_left \u001b[39mis\u001b[39;00m node: \u001b[39mreturn\u001b[39;00m \u001b[39mTrue\u001b[39;00m\n\u001b[0;32m     <a href='file:///c%3A/Users/point/python/CSE203/week6/tree_heap.py?line=19'>20</a>\u001b[0m     \u001b[39mreturn\u001b[39;00m \u001b[39mFalse\u001b[39;00m\n",
      "\u001b[1;31mAttributeError\u001b[0m: 'NoneType' object has no attribute '_left'"
     ]
    }
   ],
   "source": [
    "# pq sort\n",
    "th = TreeHeap()\n",
    "for item in sequence:\n",
    "    th.add(item)\n",
    "\n",
    "sorted_sequence = []\n",
    "while not th.is_empty():\n",
    "    sorted_sequence.append(th.remove_min())"
   ]
  },
  {
   "cell_type": "code",
   "execution_count": null,
   "id": "verified-canvas",
   "metadata": {},
   "outputs": [],
   "source": [
    "print(sorted_sequence)"
   ]
  },
  {
   "cell_type": "code",
   "execution_count": null,
   "id": "hearing-prime",
   "metadata": {},
   "outputs": [],
   "source": [
    "# Test various edge cases by yourself\n",
    "# like, try remove_min from a empty heap, repeately add and remove items, etc."
   ]
  }
 ],
 "metadata": {
  "kernelspec": {
   "display_name": "Python 3",
   "language": "python",
   "name": "python3"
  },
  "language_info": {
   "codemirror_mode": {
    "name": "ipython",
    "version": 3
   },
   "file_extension": ".py",
   "mimetype": "text/x-python",
   "name": "python",
   "nbconvert_exporter": "python",
   "pygments_lexer": "ipython3",
   "version": "3.9.12"
  }
 },
 "nbformat": 4,
 "nbformat_minor": 5
}
