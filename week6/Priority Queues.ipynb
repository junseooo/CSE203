{
 "cells": [
  {
   "cell_type": "code",
   "execution_count": 3,
   "metadata": {},
   "outputs": [],
   "source": [
    "# Importing base classes\n",
    "\n",
    "from priority_queue_base import PriorityQueueBase   # PriorityQueueBase defines Priority Queue ADT (abstract data type)\n",
    "from positional_list import PositionalList          # PostionalList is an implementation of a doubly linked list\n",
    "from exceptions import Empty"
   ]
  },
  {
   "cell_type": "markdown",
   "metadata": {},
   "source": [
    "# Unsorted Priority Queue\n",
    "\n",
    "In our first concrete implementation of a priority queue, we store entries within an ***unsorted list***. Our ```UnsortedPriorityQueue``` class is given in the following, inheriting from the ```PriorityQueueBase``` class introduced in ```priority_queue_base.py```. For internal storage, key-value pairs are represented as composites, using instances of the inherited ```Item``` class. These items are stored within a ```PositionalList```, identified asthe ```_data``` member of our class. We assume that the positional list is implemented with a doubly-linked list, as in ```positional_list.py```, so that all operations of that ADT execute in *O(1)* time.\n",
    "\n",
    "We begin with an empty list when a new priority queue is constructed. At all times, the size of the list equals the number of key-value pairs currently stored in the priority queue. For this reason, our priority queue ```__len__``` method simply returns the length of the internal data list. By the design of our PriorityQueueBase class, we inherit a concrete implementation of the is empty method that relies on a call to our ```__len__``` method.\n",
    "\n",
    "Each time a key-value pair is added to the priority queue, via the ```add``` method, we create a new ```_Item``` composite for the given key and value, and add that item to the end of the list. Such an implementation takes *O(1)* time.\n",
    "\n",
    "The remaining challenge is that when min or remove min is called, we must locate the item with minimum key. Because the items are not sorted, we must inspect all entries to find one with a minimum key. For convenience, we define a nonpublic   find min utility that returns the *position* of an item with minimum key. Knowledge of the position allows the remove min method to invoke the ```delete``` method on the positional list. The min method simply uses the position to retrieve the item when preparing a key-value tuple to return. Due to the loop for finding the minimum key, both min and remove min methods run in *O(n)* time, where *n* is the number of entries in the priority queue.\n",
    "\n",
    "A summary of the running times for the ```UnsortedPriorityQueue``` class is given as:\n",
    "\n",
    "|  Operation | Running Time |\n",
    "|:----------:|:------------:|\n",
    "|     ```len()```    |     *O(1)*     |\n",
    "|  ```is_empty()```  |     *O(1)*     |\n",
    "|     ```add(o)```    |     *O(1)*     |\n",
    "|     ```o = min()```    |     *O(n)*     |\n",
    "| ```o = remove_min()``` |     *O(n)*     |\n",
    "| ***space*** | *O(n)* |"
   ]
  },
  {
   "cell_type": "code",
   "execution_count": 4,
   "metadata": {},
   "outputs": [],
   "source": [
    "class UnsortedPriorityQueue(PriorityQueueBase): # base class defines _Item\n",
    "    \"\"\"A min-oriented priority queue implemented with an unsorted list.\"\"\"\n",
    "\n",
    "    #----------------------------- nonpublic behavior -----------------------------\n",
    "    def _find_min(self):\n",
    "        \"\"\"Return Position of item with minimum key.\"\"\"\n",
    "        if self.is_empty():                             # is_empty inherited from base class\n",
    "            raise Empty('Priority queue is empty')\n",
    "        small = self._data.first()\n",
    "        walk = self._data.after(small)\n",
    "        while walk is not None:\n",
    "            if walk.element() < small.element():\n",
    "                small = walk\n",
    "            walk = self._data.after(walk)\n",
    "        return small\n",
    "\n",
    "    #------------------------------ public behaviors ------------------------------\n",
    "    def __init__(self):\n",
    "        \"\"\"Create a new empty Priority Queue.\"\"\"\n",
    "        self._data = PositionalList()\n",
    "\n",
    "    def __len__(self):\n",
    "        \"\"\"Return the number of items in the priority queue.\"\"\"\n",
    "        return len(self._data)\n",
    "\n",
    "    def add(self, key, value):\n",
    "        \"\"\"Add a key-value pair.\"\"\"\n",
    "        self._data.add_last(self._Item(key, value))\n",
    "\n",
    "    def min(self):\n",
    "        \"\"\"Return but do not remove (k,v) tuple with minimum key.\n",
    "\n",
    "        Raise Empty exception if empty.\n",
    "        \"\"\"\n",
    "        p = self._find_min()\n",
    "        item = p.element()\n",
    "        return (item._key, item._value)\n",
    "\n",
    "    def remove_min(self):\n",
    "        \"\"\"Remove and return (k,v) tuple with minimum key.\n",
    "\n",
    "        Raise Empty exception if empty.\n",
    "        \"\"\"\n",
    "        p = self._find_min()\n",
    "        item = self._data.delete(p)\n",
    "        return (item._key, item._value)\n",
    "    \n",
    "    # Custom function to display the entire elements\n",
    "    def list_elems(self):\n",
    "        listed_elem = []\n",
    "        if self.is_empty():                             # is_empty inherited from base class\n",
    "            return listed_elem\n",
    "        walk = self._data.first()\n",
    "        while walk is not None:\n",
    "            item = walk.element()\n",
    "            listed_elem.append((item._key, item._value))\n",
    "            walk = self._data.after(walk)\n",
    "        return  listed_elem"
   ]
  },
  {
   "cell_type": "code",
   "execution_count": 8,
   "metadata": {},
   "outputs": [
    {
     "name": "stdout",
     "output_type": "stream",
     "text": [
      "82 Yankee\n",
      "50 Hotel\n",
      "11 India\n",
      "32 Tango\n",
      "40 November\n"
     ]
    }
   ],
   "source": [
    "# For testing purpose, assign a random names\n",
    "import random\n",
    "names = [\"Alfa\", \"Bravo\", \"Charlie\", \"Delta\", \"Echo\", \"Foxtrot\", \"Golf\", \"Hotel\", \"India\", \"Juliett\", \"Kilo\", \"Lima\", \"Mike\", \"November\", \"Oscar\", \"Papa\", \"Quebec\", \"Romeo\", \"Sierra\", \"Tango\", \"Uniform\", \"Victor\", \"Whiskey\", \"X-ray\", \"Yankee\", \"Zulu\"]\n",
    "\n",
    "Q = UnsortedPriorityQueue()\n",
    "\n",
    "for name in random.sample(names, 5):\n",
    "    key = random.randint(0, 100)\n",
    "    print(key, name)\n",
    "    Q.add(key, name)"
   ]
  },
  {
   "cell_type": "code",
   "execution_count": 9,
   "metadata": {},
   "outputs": [
    {
     "data": {
      "text/plain": [
       "[(82, 'Yankee'), (50, 'Hotel'), (11, 'India'), (32, 'Tango'), (40, 'November')]"
      ]
     },
     "execution_count": 9,
     "metadata": {},
     "output_type": "execute_result"
    }
   ],
   "source": [
    "Q.list_elems()"
   ]
  },
  {
   "cell_type": "code",
   "execution_count": 10,
   "metadata": {},
   "outputs": [
    {
     "name": "stdout",
     "output_type": "stream",
     "text": [
      "(11, 'India')\n",
      "[(82, 'Yankee'), (50, 'Hotel'), (32, 'Tango'), (40, 'November')]\n",
      "(32, 'Tango')\n",
      "[(82, 'Yankee'), (50, 'Hotel'), (40, 'November')]\n",
      "(40, 'November')\n",
      "[(82, 'Yankee'), (50, 'Hotel')]\n",
      "(50, 'Hotel')\n",
      "[(82, 'Yankee')]\n",
      "(82, 'Yankee')\n"
     ]
    }
   ],
   "source": [
    "print(Q.remove_min())\n",
    "print(Q.list_elems())\n",
    "\n",
    "print(Q.remove_min())\n",
    "print(Q.list_elems())\n",
    "\n",
    "print(Q.remove_min())\n",
    "print(Q.list_elems())\n",
    "\n",
    "print(Q.remove_min())\n",
    "print(Q.list_elems())\n",
    "\n",
    "print(Q.remove_min())"
   ]
  },
  {
   "cell_type": "markdown",
   "metadata": {},
   "source": [
    "# Sorted Priority Queue\n",
    "\n",
    "An alternative implementation of a priority queue uses a positional list, yet maintaining entries sorted by nondecreasing keys. This ensures that the first element of the list is an entry with the smallest key.\n",
    "\n",
    "Our ```SortedPriorityQueue``` class is given in the following code. The implementation of ```min``` and ```remove_min``` are rather straightforward given knowledge that the first element of a list has a minimum key. We rely on the first method of the positional list to find the position of the first item, and the delete method to remove the entry from the list. Assuming that the list is implemented with a doubly linked list, operations min and remove min take *O(1)* time.\n",
    "\n",
    "This benefit comes at a cost, however, for method add now requires that we scan the list to find the appropriate position to insert the new item. Our implementation starts at the end of the list, walking backward until the new key is smaller than an existing item; in the worst case, it progresses until reaching the front of the list. Therefore, the add method takes *O(n)* worst-case time, where *n* is the number of entries in the priority queue at the time the method is executed. In summary, when using a sorted list to implement a priority queue, insertion runs in linear time, whereas finding and removing the minimum can be done in constant time.\n",
    "\n",
    "This table compares the running times of the methods of a priority queue realized by means of a sorted and unsorted list, respectively. We see an interesting trade-off when we use a list to implement the priority queue ADT. An unsorted list supports fast insertions but slow queries and deletions, whereas a sorted list allows fast queries and deletions, but slow insertions.\n",
    "\n",
    "|  Operation | Unsorted List | Sorted List |\n",
    "|:----------:|:------------:| :------------:| \n",
    "|     ```len()```    |     *O(1)*     |    *O(1)*     |\n",
    "|  ```is_empty()```  |     *O(1)*     |    *O(1)*     |\n",
    "|     ```add(o)```    |     *O(1)*     |    *O(n)*     |\n",
    "|     ```o = min()```    |     *O(n)*     |    *O(1)*     |\n",
    "| ```o = remove_min()``` |     *O(n)*     |    *O(1)*     |\n",
    "| ***space*** | *O(n)* |    *O(n)*     |"
   ]
  },
  {
   "cell_type": "code",
   "execution_count": 12,
   "metadata": {},
   "outputs": [],
   "source": [
    "class SortedPriorityQueue(PriorityQueueBase): # base class defines _Item\n",
    "    \"\"\"A min-oriented priority queue implemented with a sorted list.\"\"\"\n",
    "\n",
    "    #------------------------------ public behaviors ------------------------------\n",
    "    def __init__(self):\n",
    "        \"\"\"Create a new empty Priority Queue.\"\"\"\n",
    "        self._data = PositionalList()\n",
    "\n",
    "    def __len__(self):\n",
    "        \"\"\"Return the number of items in the priority queue.\"\"\"\n",
    "        return len(self._data)\n",
    "\n",
    "    def add(self, key, value):\n",
    "        \"\"\"Add a key-value pair.\"\"\"\n",
    "        newest = self._Item(key, value)                         # make new item instance\n",
    "        walk = self._data.last()             # walk backward looking for smaller key\n",
    "        while walk is not None and newest < walk.element():\n",
    "            walk = self._data.before(walk)\n",
    "        if walk is None:\n",
    "            self._data.add_first(newest)                            # new key is smallest\n",
    "        else:\n",
    "            self._data.add_after(walk, newest)                # newest goes after walk\n",
    "\n",
    "    def min(self):\n",
    "        \"\"\"Return but do not remove (k,v) tuple with minimum key.\n",
    "\n",
    "        Raise Empty exception if empty.\n",
    "        \"\"\"\n",
    "        if self.is_empty():\n",
    "            raise Empty('Priority queue is empty.')\n",
    "        p = self._data.first()\n",
    "        item = p.element()\n",
    "        return (item._key, item._value)\n",
    "\n",
    "    def remove_min(self):\n",
    "        \"\"\"Remove and return (k,v) tuple with minimum key.\n",
    "\n",
    "        Raise Empty exception if empty.\n",
    "        \"\"\"\n",
    "        if self.is_empty():\n",
    "            raise Empty('Priority queue is empty.')\n",
    "        item = self._data.delete(self._data.first())\n",
    "        return (item._key, item._value)\n",
    "    \n",
    "    # Custom function to display the entire elements\n",
    "    def list_elems(self):\n",
    "        listed_elem = []\n",
    "        if self.is_empty():                             # is_empty inherited from base class\n",
    "            return listed_elem\n",
    "        walk = self._data.first()\n",
    "        while walk is not None:\n",
    "            item = walk.element()\n",
    "            listed_elem.append((item._key, item._value))\n",
    "            walk = self._data.after(walk)\n",
    "        return  listed_elem\n"
   ]
  },
  {
   "cell_type": "code",
   "execution_count": 13,
   "metadata": {},
   "outputs": [
    {
     "name": "stdout",
     "output_type": "stream",
     "text": [
      "66 Golf\n",
      "94 Echo\n",
      "94 Lima\n",
      "64 Whiskey\n",
      "28 Papa\n"
     ]
    }
   ],
   "source": [
    "Q2 = SortedPriorityQueue()\n",
    "\n",
    "for name in random.sample(names, 5):\n",
    "    key = random.randint(0, 100)\n",
    "    print(key, name)\n",
    "    Q2.add(key, name)"
   ]
  },
  {
   "cell_type": "code",
   "execution_count": 14,
   "metadata": {},
   "outputs": [
    {
     "data": {
      "text/plain": [
       "[(28, 'Papa'), (64, 'Whiskey'), (66, 'Golf'), (94, 'Echo'), (94, 'Lima')]"
      ]
     },
     "execution_count": 14,
     "metadata": {},
     "output_type": "execute_result"
    }
   ],
   "source": [
    "Q2.list_elems()"
   ]
  },
  {
   "cell_type": "code",
   "execution_count": 15,
   "metadata": {},
   "outputs": [
    {
     "name": "stdout",
     "output_type": "stream",
     "text": [
      "(28, 'Papa')\n",
      "(64, 'Whiskey')\n",
      "(66, 'Golf')\n",
      "(94, 'Echo')\n",
      "(94, 'Lima')\n"
     ]
    }
   ],
   "source": [
    "print(Q2.remove_min())\n",
    "print(Q2.remove_min())\n",
    "print(Q2.remove_min())\n",
    "print(Q2.remove_min())\n",
    "print(Q2.remove_min())"
   ]
  },
  {
   "cell_type": "markdown",
   "metadata": {},
   "source": [
    "# Heap-based priority Queue\n",
    "\n",
    "We provide a Python implementation of a heap-based priority queue in the following code. We use an array-based representation, maintaining a Python list of item composites. Although we do not formally use the binary tree ADT, the code includes nonpublic utility functions that compute the level numbering of a parent or child of another. This allows us to describe the rest of our algorithms using tree-like terminology of *parent*, *left*, and *right*. However, the relevant variables are integer indexes (not “position” objects). We use recursion to implement the repetition in the ```_upheap``` and ```_downheap``` utilities.\n",
    "\n",
    "The table displays the running time of the methods in different priority queue implementations.\n",
    "\n",
    "|  Operation | Unsorted List | Sorted List | Heap-based|\n",
    "|:----------:|:------------:|:------------:|:------------:| \n",
    "|     ```len()```    |     *O(1)*     |    *O(1)*     |    *O(1)*     |\n",
    "|  ```is_empty()```  |     *O(1)*     |    *O(1)*     |    *O(1)*     |\n",
    "|     ```add(o)```    |     *O(1)*     |    *O(n)*     |    *O($\\log n$)*     |\n",
    "|     ```o = min()```    |     *O(n)*     |    *O(1)*     |    *O(1)*     |\n",
    "| ```o = remove_min()``` |     *O(n)*     |    *O(1)*     |    *O($\\log n$)*     |\n",
    "| ***space*** | *O(n)* |    *O(n)*     |    *O(n)*     |"
   ]
  },
  {
   "cell_type": "code",
   "execution_count": 17,
   "metadata": {},
   "outputs": [],
   "source": [
    "# Copyright 2013, Michael H. Goldwasser\n",
    "#\n",
    "# Developed for use with the book:\n",
    "#\n",
    "#        Data Structures and Algorithms in Python\n",
    "#        Michael T. Goodrich, Roberto Tamassia, and Michael H. Goldwasser\n",
    "#        John Wiley & Sons, 2013\n",
    "#\n",
    "# This program is free software: you can redistribute it and/or modify\n",
    "# it under the terms of the GNU General Public License as published by\n",
    "# the Free Software Foundation, either version 3 of the License, or\n",
    "# (at your option) any later version.\n",
    "#\n",
    "# This program is distributed in the hope that it will be useful,\n",
    "# but WITHOUT ANY WARRANTY; without even the implied warranty of\n",
    "# MERCHANTABILITY or FITNESS FOR A PARTICULAR PURPOSE.    See the\n",
    "# GNU General Public License for more details.\n",
    "#\n",
    "# You should have received a copy of the GNU General Public License\n",
    "# along with this program.    If not, see <http://www.gnu.org/licenses/>.\n",
    "\n",
    "from priority_queue_base import PriorityQueueBase\n",
    "from exceptions import Empty\n",
    "\n",
    "class HeapPriorityQueue(PriorityQueueBase): # base class defines _Item\n",
    "    \"\"\"A min-oriented priority queue implemented with a binary heap.\"\"\"\n",
    "\n",
    "    #------------------------------ nonpublic behaviors ------------------------------\n",
    "    def _parent(self, j):\n",
    "        return (j-1) // 2\n",
    "\n",
    "    def _left(self, j):\n",
    "        return 2*j + 1\n",
    "    \n",
    "    def _right(self, j):\n",
    "        return 2*j + 2\n",
    "\n",
    "    def _has_left(self, j):\n",
    "        return self._left(j) < len(self._data)         # index beyond end of list?\n",
    "    \n",
    "    def _has_right(self, j):\n",
    "        return self._right(j) < len(self._data)        # index beyond end of list?\n",
    "    \n",
    "    def _swap(self, i, j):\n",
    "        \"\"\"Swap the elements at indices i and j of array.\"\"\"\n",
    "        self._data[i], self._data[j] = self._data[j], self._data[i]\n",
    "\n",
    "    def _upheap(self, j):\n",
    "        parent = self._parent(j)\n",
    "        if j > 0 and self._data[j] < self._data[parent]:\n",
    "            self._swap(j, parent)\n",
    "            self._upheap(parent)                         # recur at position of parent\n",
    "    \n",
    "    def _downheap(self, j):\n",
    "        if self._has_left(j):\n",
    "            left = self._left(j)\n",
    "            small_child = left                             # although right may be smaller\n",
    "            if self._has_right(j):\n",
    "                right = self._right(j)\n",
    "                if self._data[right] < self._data[left]:\n",
    "                    small_child = right\n",
    "            if self._data[small_child] < self._data[j]:\n",
    "                self._swap(j, small_child)\n",
    "                self._downheap(small_child)        # recur at position of small child\n",
    "\n",
    "    #------------------------------ public behaviors ------------------------------\n",
    "    def __init__(self):\n",
    "        \"\"\"Create a new empty Priority Queue.\"\"\"\n",
    "        self._data = []\n",
    "\n",
    "    def __len__(self):\n",
    "        \"\"\"Return the number of items in the priority queue.\"\"\"\n",
    "        return len(self._data)\n",
    "\n",
    "    def add(self, key, value):\n",
    "        \"\"\"Add a key-value pair to the priority queue.\"\"\"\n",
    "        self._data.append(self._Item(key, value))\n",
    "        self._upheap(len(self._data) - 1)                        # upheap newly added position\n",
    "    \n",
    "    def min(self):\n",
    "        \"\"\"Return but do not remove (k,v) tuple with minimum key.\n",
    "\n",
    "        Raise Empty exception if empty.\n",
    "        \"\"\"\n",
    "        if self.is_empty():\n",
    "            raise Empty('Priority queue is empty.')\n",
    "        item = self._data[0]\n",
    "        return (item._key, item._value)\n",
    "\n",
    "    def remove_min(self):\n",
    "        \"\"\"Remove and return (k,v) tuple with minimum key.\n",
    "\n",
    "        Raise Empty exception if empty.\n",
    "        \"\"\"\n",
    "        if self.is_empty():\n",
    "            raise Empty('Priority queue is empty.')\n",
    "        self._swap(0, len(self._data) - 1)                     # put minimum item at the end\n",
    "        item = self._data.pop()                                            # and remove it from the list;\n",
    "        self._downheap(0)                                                        # then fix new root\n",
    "        return (item._key, item._value)\n",
    "\n",
    "    def display_heap(self, j=0): # j: position\n",
    "        if len(self) == 0:\n",
    "            return\n",
    "        \n",
    "        height = int((j+1)/2)\n",
    "        print('+-'*height+str(self._data[j]))\n",
    "    \n",
    "        if self._has_left(j):\n",
    "            left = self._left(j)\n",
    "            self.display_heap(left)\n",
    "        if self._has_right(j):\n",
    "            right = self._right(j)\n",
    "            self.display_heap(right)"
   ]
  },
  {
   "cell_type": "code",
   "execution_count": 18,
   "metadata": {},
   "outputs": [
    {
     "name": "stdout",
     "output_type": "stream",
     "text": [
      "Inserted: 39 Uniform\n",
      "(39,Uniform)\n",
      "\n",
      "Inserted: 89 Romeo\n",
      "(39,Uniform)\n",
      "+-(89,Romeo)\n",
      "\n",
      "Inserted: 47 Victor\n",
      "(39,Uniform)\n",
      "+-(89,Romeo)\n",
      "+-(47,Victor)\n",
      "\n",
      "Inserted: 29 Juliett\n",
      "(29,Juliett)\n",
      "+-(39,Uniform)\n",
      "+-+-(89,Romeo)\n",
      "+-(47,Victor)\n",
      "\n",
      "Inserted: 44 Papa\n",
      "(29,Juliett)\n",
      "+-(39,Uniform)\n",
      "+-+-(89,Romeo)\n",
      "+-+-(44,Papa)\n",
      "+-(47,Victor)\n",
      "\n"
     ]
    }
   ],
   "source": [
    "Qh = HeapPriorityQueue()\n",
    "\n",
    "for name in random.sample(names, 5):\n",
    "    key = random.randint(0, 100)\n",
    "    print(\"Inserted:\", key, name)\n",
    "    Qh.add(key, name)\n",
    "    Qh.display_heap()\n",
    "    print()"
   ]
  },
  {
   "cell_type": "code",
   "execution_count": 19,
   "metadata": {},
   "outputs": [
    {
     "name": "stdout",
     "output_type": "stream",
     "text": [
      "Removed: (29, 'Juliett')\n",
      "(39,Uniform)\n",
      "+-(44,Papa)\n",
      "+-+-(89,Romeo)\n",
      "+-(47,Victor)\n",
      "\n",
      "Removed: (39, 'Uniform')\n",
      "(44,Papa)\n",
      "+-(89,Romeo)\n",
      "+-(47,Victor)\n",
      "\n",
      "Removed: (44, 'Papa')\n",
      "(47,Victor)\n",
      "+-(89,Romeo)\n",
      "\n",
      "Removed: (47, 'Victor')\n",
      "(89,Romeo)\n",
      "\n",
      "Removed: (89, 'Romeo')\n",
      "\n"
     ]
    }
   ],
   "source": [
    "for i in range(5):\n",
    "    print(\"Removed:\", Qh.remove_min())\n",
    "    Qh.display_heap()\n",
    "    print()\n"
   ]
  },
  {
   "cell_type": "markdown",
   "metadata": {},
   "source": [
    "# Sorting with priority queue\n",
    "\n",
    "As our first application of priority queues, we demonstrate how they can be used to sort a collection C of comparable elements. That is, we can produce a sequence of elements of C in increasing order (or at least in nondecreasing order if there are duplicates). The algorithm is quite simple—we insert all elements into an initially empty priority queue, and then we repeatedly call remove min to retrieve the elements in nondecreasing order."
   ]
  },
  {
   "cell_type": "code",
   "execution_count": 24,
   "metadata": {},
   "outputs": [],
   "source": [
    "def pq_sort(elements, PQ):\n",
    "    n = len(elements)\n",
    "    sorted = []\n",
    "    for elem in elements:\n",
    "        PQ.add(elem, elem)\n",
    "    \n",
    "    for j in range(n):\n",
    "        (k, v) = PQ.remove_min()\n",
    "        sorted.append(v)\n",
    "\n",
    "    return sorted"
   ]
  },
  {
   "cell_type": "code",
   "execution_count": 29,
   "metadata": {},
   "outputs": [],
   "source": [
    "import random\n",
    "import time\n",
    "\n",
    "unsorted_list = []\n",
    "for i in range(1000):\n",
    "    unsorted_list.append(random.randrange(1000))\n",
    "    \n",
    "#print(unsorted_list)"
   ]
  },
  {
   "cell_type": "code",
   "execution_count": 30,
   "metadata": {},
   "outputs": [],
   "source": [
    "# Selection Sort\n",
    "\n",
    "start_time = time.time()\n",
    "sorted_list = pq_sort(unsorted_list, SortedPriorityQueue())\n",
    "end_time = time.time()\n",
    "sorted_time = end_time - start_time\n",
    "\n",
    "#print(sorted_list)"
   ]
  },
  {
   "cell_type": "code",
   "execution_count": 31,
   "metadata": {},
   "outputs": [],
   "source": [
    "# Insertion Sort\n",
    "\n",
    "start_time = time.time()\n",
    "sorted_list = pq_sort(unsorted_list, UnsortedPriorityQueue())\n",
    "end_time = time.time()\n",
    "unsorted_time = end_time - start_time\n",
    "\n",
    "#print(sorted_list)"
   ]
  },
  {
   "cell_type": "code",
   "execution_count": 32,
   "metadata": {},
   "outputs": [],
   "source": [
    "# Heap Sort \n",
    "# Improvement: bottom-up heap building\n",
    "#              in-place heap sort\n",
    "\n",
    "start_time = time.time()\n",
    "sorted_list = pq_sort(unsorted_list, HeapPriorityQueue())\n",
    "end_time = time.time()\n",
    "heapsort_time = end_time - start_time\n",
    "\n",
    "#print(sorted_list)"
   ]
  },
  {
   "cell_type": "code",
   "execution_count": 33,
   "metadata": {},
   "outputs": [
    {
     "name": "stdout",
     "output_type": "stream",
     "text": [
      "5.2468719482421875 13.406172037124634 0.082366943359375\n"
     ]
    }
   ],
   "source": [
    "print(sorted_time, unsorted_time, heapsort_time)"
   ]
  },
  {
   "cell_type": "markdown",
   "metadata": {},
   "source": [
    "# Python's heapq module\n",
    "```heapq``` module provides a convenient **Heap** implementation in Python.\n",
    "https://docs.python.org/3.8/library/heapq.html"
   ]
  },
  {
   "cell_type": "code",
   "execution_count": 34,
   "metadata": {},
   "outputs": [],
   "source": [
    "from heapq import heappush, heappop, heapify\n",
    "\n",
    "def heapsort(iterable):\n",
    "    h = []\n",
    "    for value in iterable:\n",
    "        heappush(h, value)\n",
    "    return [heappop(h) for i in range(len(h))]"
   ]
  },
  {
   "cell_type": "code",
   "execution_count": 35,
   "metadata": {},
   "outputs": [
    {
     "name": "stdout",
     "output_type": "stream",
     "text": [
      "[0, 1, 2, 3, 4, 5, 6, 7, 8, 9]\n"
     ]
    }
   ],
   "source": [
    "print(heapsort([1, 3, 5, 7, 9, 2, 4, 6, 8, 0]))"
   ]
  },
  {
   "cell_type": "code",
   "execution_count": 36,
   "metadata": {},
   "outputs": [
    {
     "name": "stdout",
     "output_type": "stream",
     "text": [
      "[50, 54, 40, 76, 70, 39, 58, 92, 74, 36]\n",
      "[36, 50, 39, 74, 54, 40, 58, 92, 76, 70]\n"
     ]
    }
   ],
   "source": [
    "items = random.sample(range(100), 10)\n",
    "print(items)\n",
    "heapify(items) # This runs in linear time => in-place and bottom-up construction!\n",
    "print(items)"
   ]
  },
  {
   "cell_type": "code",
   "execution_count": 22,
   "metadata": {},
   "outputs": [],
   "source": [
    "h = []\n",
    "heappush(h, (5, 'write code'))\n",
    "heappush(h, (7, 'release product'))\n",
    "heappush(h, (1, 'write spec'))\n",
    "heappush(h, (3, 'create tests'))"
   ]
  },
  {
   "cell_type": "code",
   "execution_count": 23,
   "metadata": {},
   "outputs": [
    {
     "name": "stdout",
     "output_type": "stream",
     "text": [
      "(1, 'write spec')\n",
      "(3, 'create tests')\n",
      "(5, 'write code')\n",
      "(7, 'release product')\n"
     ]
    }
   ],
   "source": [
    "print(heappop(h))\n",
    "print(heappop(h))\n",
    "print(heappop(h))\n",
    "print(heappop(h))"
   ]
  },
  {
   "cell_type": "code",
   "execution_count": null,
   "metadata": {},
   "outputs": [],
   "source": []
  }
 ],
 "metadata": {
  "kernelspec": {
   "display_name": "Python 3",
   "language": "python",
   "name": "python3"
  },
  "language_info": {
   "codemirror_mode": {
    "name": "ipython",
    "version": 3
   },
   "file_extension": ".py",
   "mimetype": "text/x-python",
   "name": "python",
   "nbconvert_exporter": "python",
   "pygments_lexer": "ipython3",
   "version": "3.6.8"
  }
 },
 "nbformat": 4,
 "nbformat_minor": 2
}
