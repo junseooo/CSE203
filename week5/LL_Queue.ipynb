{
 "cells": [
  {
   "cell_type": "code",
   "execution_count": 1,
   "metadata": {},
   "outputs": [],
   "source": [
    "# Copyright 2013, Michael H. Goldwasser\n",
    "#\n",
    "# Developed for use with the book:\n",
    "#\n",
    "#        Data Structures and Algorithms in Python\n",
    "#        Michael T. Goodrich, Roberto Tamassia, and Michael H. Goldwasser\n",
    "#        John Wiley & Sons, 2013\n",
    "#\n",
    "# This program is free software: you can redistribute it and/or modify\n",
    "# it under the terms of the GNU General Public License as published by\n",
    "# the Free Software Foundation, either version 3 of the License, or\n",
    "# (at your option) any later version.\n",
    "#\n",
    "# This program is distributed in the hope that it will be useful,\n",
    "# but WITHOUT ANY WARRANTY; without even the implied warranty of\n",
    "# MERCHANTABILITY or FITNESS FOR A PARTICULAR PURPOSE.    See the\n",
    "# GNU General Public License for more details.\n",
    "#\n",
    "# You should have received a copy of the GNU General Public License\n",
    "# along with this program.    If not, see <http://www.gnu.org/licenses/>.\n",
    "\n",
    "class LinkedQueue:\n",
    "    \"\"\"FIFO queue implementation using a singly linked list for storage.\"\"\"\n",
    "\n",
    "    #-------------------------- nested _Node class --------------------------\n",
    "    class _Node:\n",
    "        \"\"\"Lightweight, nonpublic class for storing a singly linked node.\"\"\"\n",
    "        __slots__ = '_element', '_next'                 # streamline memory usage\n",
    "\n",
    "        def __init__(self, element, next):\n",
    "            self._element = element\n",
    "            self._next = next\n",
    "\n",
    "    #------------------------------- queue methods -------------------------------\n",
    "    def __init__(self):\n",
    "        \"\"\"Create an empty queue.\"\"\"\n",
    "        self._head = None\n",
    "        self._tail = None\n",
    "        self._size = 0                                                    # number of queue elements\n",
    "\n",
    "    def __len__(self):\n",
    "        \"\"\"Return the number of elements in the queue.\"\"\"\n",
    "        return self._size\n",
    "    \n",
    "    def __str__(self):\n",
    "        obj = self._head\n",
    "        ret_str = f'{len(self)}: ['\n",
    "        while obj != None:\n",
    "            ret_str += str(obj._element)\n",
    "            obj = obj._next\n",
    "            if obj != None:\n",
    "                ret_str += ','\n",
    "        \n",
    "        ret_str += ']'\n",
    "        return ret_str\n",
    "    def __repr__(self):\n",
    "        return self.__str__()\n",
    "  \n",
    "\n",
    "    def is_empty(self):\n",
    "        \"\"\"Return True if the queue is empty.\"\"\"\n",
    "        return self._size == 0\n",
    "\n",
    "    def first(self):\n",
    "        \"\"\"Return (but do not remove) the element at the front of the queue.\n",
    "\n",
    "        Raise Empty exception if the queue is empty.\n",
    "        \"\"\"\n",
    "        if self.is_empty():\n",
    "            raise Exception('Queue is empty')\n",
    "        return self._head._element                            # front aligned with head of list\n",
    "\n",
    "    def dequeue(self):\n",
    "        \"\"\"Remove and return the first element of the queue (i.e., FIFO).\n",
    "\n",
    "        Raise Empty exception if the queue is empty.\n",
    "        \"\"\"\n",
    "        if self.is_empty():\n",
    "            raise Exception('Queue is empty')\n",
    "        answer = self._head._element\n",
    "        self._head = self._head._next\n",
    "        self._size -= 1\n",
    "        if self.is_empty():                                         # special case as queue is empty\n",
    "            self._tail = None                                         # removed head had been the tail\n",
    "        return answer\n",
    "\n",
    "    def enqueue(self, e):\n",
    "        \"\"\"Add an element to the back of queue.\"\"\"\n",
    "        newest = self._Node(e, None)                        # node will be new tail node\n",
    "        if self.is_empty():\n",
    "            self._head = newest                                     # special case: previously empty\n",
    "        else:\n",
    "            self._tail._next = newest\n",
    "        self._tail = newest                                         # update reference to tail node\n",
    "        self._size += 1\n"
   ]
  },
  {
   "cell_type": "code",
   "execution_count": 2,
   "metadata": {},
   "outputs": [],
   "source": [
    "q = LinkedQueue()"
   ]
  },
  {
   "cell_type": "code",
   "execution_count": 3,
   "metadata": {},
   "outputs": [
    {
     "name": "stdout",
     "output_type": "stream",
     "text": [
      "1: [a]\n",
      "2: [a,b]\n",
      "3: [a,b,c]\n"
     ]
    }
   ],
   "source": [
    "q.enqueue('a')\n",
    "print(q)\n",
    "q.enqueue('b')\n",
    "print(q)\n",
    "q.enqueue('c')\n",
    "print(q)"
   ]
  },
  {
   "cell_type": "code",
   "execution_count": 4,
   "metadata": {},
   "outputs": [
    {
     "name": "stdout",
     "output_type": "stream",
     "text": [
      "a\n",
      "2: [b,c]\n",
      "b\n",
      "1: [c]\n"
     ]
    }
   ],
   "source": [
    "print(q.dequeue())\n",
    "print(q)\n",
    "print(q.dequeue())\n",
    "print(q)"
   ]
  },
  {
   "cell_type": "code",
   "execution_count": null,
   "metadata": {},
   "outputs": [],
   "source": []
  }
 ],
 "metadata": {
  "kernelspec": {
   "display_name": "Python 3",
   "language": "python",
   "name": "python3"
  },
  "language_info": {
   "codemirror_mode": {
    "name": "ipython",
    "version": 3
   },
   "file_extension": ".py",
   "mimetype": "text/x-python",
   "name": "python",
   "nbconvert_exporter": "python",
   "pygments_lexer": "ipython3",
   "version": "3.6.8"
  }
 },
 "nbformat": 4,
 "nbformat_minor": 2
}
