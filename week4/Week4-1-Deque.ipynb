{
 "cells": [
  {
   "cell_type": "markdown",
   "id": "6575ee71",
   "metadata": {},
   "source": [
    "# Week4 Assignment 1\n",
    "\n",
    "Modify a class `Deque` in `ArrayDeque.py`, supporting the following ADT:\n",
    "\n",
    "| Mehod | Function |\n",
    "| ---: | :--- |\n",
    "| `D.add_first(e)` | Add element e at the front of the deque **D**. |\n",
    "| `D.add_last(e)` | Add element e at the end of deque **D**. |\n",
    "| `e = D.delete_first()` | Removes and return element e at the first of deque **D**. |\n",
    "| `e = D.delete_last()` | Removes and return element e at the end of deque **D**. |\n",
    "| `e = D.first()` | Return element e at the first of deque **D**. |\n",
    "| `e = D.last()` | Return element e at the end of deque **D**. |\n",
    "| `D.is_empty()` | Return True if deque **D** does not contain any elements. |\n",
    "| `len(D)` | Return the number of elements in Deque **D**; in Python, we implement this with the special method `__len__`. |\n",
    "\n",
    "* All the operations in the ADT should be O(1) time complexity in amortized analysis. \n",
    "* DO NOT USE `append()`, `extend()`, `pop()`, methods in the `list` module.\n",
    "* Manually manage all the data placements. **Use only `self._data[index]` to assign or retrieve the data from the list**.\n",
    "* Use doubling strategy for resizing the buffer (=`_data`).\n",
    "* You need to resize the buffer when the buffer is full, or the length of Deque is <1/2 of the buffer size"
   ]
  },
  {
   "cell_type": "code",
   "execution_count": 5,
   "id": "eb221b29",
   "metadata": {},
   "outputs": [],
   "source": [
    "from ArrayDeque import Deque, EmptyException"
   ]
  },
  {
   "cell_type": "code",
   "execution_count": 6,
   "id": "2ae9cd93",
   "metadata": {},
   "outputs": [
    {
     "name": "stdout",
     "output_type": "stream",
     "text": [
      "28\n",
      "27\n",
      "26\n",
      "25\n",
      "24\n",
      "23\n",
      "22\n",
      "21\n",
      "20\n",
      "18\n",
      "0\n",
      "18\n",
      "8\n",
      "17\n",
      "7\n",
      "16\n",
      "6\n",
      "15\n",
      "5\n",
      "14\n",
      "0\n",
      "10\n",
      "1\n",
      "11\n",
      "2\n",
      "12\n",
      "3\n",
      "13\n",
      "4\n"
     ]
    }
   ],
   "source": [
    "# Test cases\n",
    "\n",
    "d = Deque()\n",
    "\n",
    "for i in range(9):\n",
    "    d.add_first(i)\n",
    "    d.add_last(i+20)\n",
    "    d.add_first(i+10)\n",
    "    \n",
    "for i in range(9):\n",
    "    print(d.delete_last())\n",
    "\n",
    "print(d.first())\n",
    "print(d.last())\n",
    "\n",
    "for i in range(9):\n",
    "    print(d.delete_first())\n",
    "    \n",
    "    \n",
    "for i in range(9):\n",
    "    print(d.delete_last())"
   ]
  },
  {
   "cell_type": "code",
   "execution_count": 3,
   "id": "126664ec",
   "metadata": {},
   "outputs": [
    {
     "ename": "EmptyException",
     "evalue": "Deque is empty",
     "output_type": "error",
     "traceback": [
      "\u001b[1;31m---------------------------------------------------------------------------\u001b[0m",
      "\u001b[1;31mEmptyException\u001b[0m                            Traceback (most recent call last)",
      "Input \u001b[1;32mIn [3]\u001b[0m, in \u001b[0;36m<module>\u001b[1;34m\u001b[0m\n\u001b[1;32m----> 1\u001b[0m \u001b[43md\u001b[49m\u001b[38;5;241;43m.\u001b[39;49m\u001b[43mdelete_first\u001b[49m\u001b[43m(\u001b[49m\u001b[43m)\u001b[49m\n",
      "File \u001b[1;32mC:\\Dropbox\\Documents\\Lecture\\2022-CSE203-Spring Data Structure\\Lecture Note\\Week 4\\notebooks\\ArrayDeque.py:40\u001b[0m, in \u001b[0;36mDeque.delete_first\u001b[1;34m(self)\u001b[0m\n\u001b[0;32m     38\u001b[0m \u001b[38;5;28;01mdef\u001b[39;00m \u001b[38;5;21mdelete_first\u001b[39m(\u001b[38;5;28mself\u001b[39m):   \u001b[38;5;66;03m# O(1)*\u001b[39;00m\n\u001b[0;32m     39\u001b[0m     \u001b[38;5;28;01mif\u001b[39;00m \u001b[38;5;28mself\u001b[39m\u001b[38;5;241m.\u001b[39mis_empty():\n\u001b[1;32m---> 40\u001b[0m         \u001b[38;5;28;01mraise\u001b[39;00m EmptyException(\u001b[38;5;124m'\u001b[39m\u001b[38;5;124mDeque is empty\u001b[39m\u001b[38;5;124m'\u001b[39m)\n\u001b[0;32m     42\u001b[0m     ret \u001b[38;5;241m=\u001b[39m \u001b[38;5;28mself\u001b[39m\u001b[38;5;241m.\u001b[39m_data[\u001b[38;5;28mself\u001b[39m\u001b[38;5;241m.\u001b[39m_f]\n\u001b[0;32m     43\u001b[0m     \u001b[38;5;28mself\u001b[39m\u001b[38;5;241m.\u001b[39m_data[\u001b[38;5;28mself\u001b[39m\u001b[38;5;241m.\u001b[39m_f] \u001b[38;5;241m=\u001b[39m \u001b[38;5;28;01mNone\u001b[39;00m\n",
      "\u001b[1;31mEmptyException\u001b[0m: Deque is empty"
     ]
    }
   ],
   "source": [
    "d.delete_first() # should raise an exception"
   ]
  },
  {
   "cell_type": "code",
   "execution_count": 4,
   "id": "bdcfc8e9",
   "metadata": {},
   "outputs": [
    {
     "ename": "EmptyException",
     "evalue": "Deque is empty",
     "output_type": "error",
     "traceback": [
      "\u001b[1;31m---------------------------------------------------------------------------\u001b[0m",
      "\u001b[1;31mEmptyException\u001b[0m                            Traceback (most recent call last)",
      "Input \u001b[1;32mIn [4]\u001b[0m, in \u001b[0;36m<module>\u001b[1;34m\u001b[0m\n\u001b[1;32m----> 1\u001b[0m \u001b[43md\u001b[49m\u001b[38;5;241;43m.\u001b[39;49m\u001b[43mlast\u001b[49m\u001b[43m(\u001b[49m\u001b[43m)\u001b[49m\n",
      "File \u001b[1;32mC:\\Dropbox\\Documents\\Lecture\\2022-CSE203-Spring Data Structure\\Lecture Note\\Week 4\\notebooks\\ArrayDeque.py:57\u001b[0m, in \u001b[0;36mDeque.last\u001b[1;34m(self)\u001b[0m\n\u001b[0;32m     55\u001b[0m \u001b[38;5;28;01mdef\u001b[39;00m \u001b[38;5;21mlast\u001b[39m(\u001b[38;5;28mself\u001b[39m):\n\u001b[0;32m     56\u001b[0m     \u001b[38;5;28;01mif\u001b[39;00m \u001b[38;5;28mself\u001b[39m\u001b[38;5;241m.\u001b[39mis_empty():\n\u001b[1;32m---> 57\u001b[0m         \u001b[38;5;28;01mraise\u001b[39;00m EmptyException(\u001b[38;5;124m'\u001b[39m\u001b[38;5;124mDeque is empty\u001b[39m\u001b[38;5;124m'\u001b[39m)        \n\u001b[0;32m     58\u001b[0m     \u001b[38;5;28;01mreturn\u001b[39;00m \u001b[38;5;28mself\u001b[39m\u001b[38;5;241m.\u001b[39m_data[(\u001b[38;5;28mself\u001b[39m\u001b[38;5;241m.\u001b[39mN\u001b[38;5;241m+\u001b[39m\u001b[38;5;28mself\u001b[39m\u001b[38;5;241m.\u001b[39m_r\u001b[38;5;241m-\u001b[39m\u001b[38;5;241m1\u001b[39m)\u001b[38;5;241m%\u001b[39m\u001b[38;5;28mself\u001b[39m\u001b[38;5;241m.\u001b[39mN]\n",
      "\u001b[1;31mEmptyException\u001b[0m: Deque is empty"
     ]
    }
   ],
   "source": [
    "d.last() # should raise an exception"
   ]
  },
  {
   "cell_type": "code",
   "execution_count": 7,
   "id": "e5ec0922",
   "metadata": {},
   "outputs": [],
   "source": [
    "# Add your own test cases"
   ]
  },
  {
   "cell_type": "code",
   "execution_count": null,
   "id": "4f49fc36",
   "metadata": {},
   "outputs": [],
   "source": []
  }
 ],
 "metadata": {
  "kernelspec": {
   "display_name": "Python 3 (ipykernel)",
   "language": "python",
   "name": "python3"
  },
  "language_info": {
   "codemirror_mode": {
    "name": "ipython",
    "version": 3
   },
   "file_extension": ".py",
   "mimetype": "text/x-python",
   "name": "python",
   "nbconvert_exporter": "python",
   "pygments_lexer": "ipython3",
   "version": "3.10.2"
  }
 },
 "nbformat": 4,
 "nbformat_minor": 5
}
