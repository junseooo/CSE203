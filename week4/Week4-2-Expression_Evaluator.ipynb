{
 "cells": [
  {
   "cell_type": "markdown",
   "id": "f79c9a92",
   "metadata": {},
   "source": [
    "# Week4 Assignment 2\n",
    "\n",
    "Implement two functions below, `infix_to_postfix(L)` and `eval_postfix(L)`.\n",
    "In your implementation, you may use `ArrayList`, `priority`, and `is_number`. "
   ]
  },
  {
   "cell_type": "code",
   "execution_count": 1,
   "id": "printable-child",
   "metadata": {},
   "outputs": [],
   "source": [
    "## DO NOT EDIT THIS CELLS\n",
    "import re\n",
    "\n",
    "# to_list: convert a string into list of operand and operators.\n",
    "# expression: an expression in str, ex:'1+2/3*4-5*6'\n",
    "# return: list of operand and operators from the str, ex: [1, '+', 2, '/', 3, '*', 4, '-', 5, '*', 6]\n",
    "def to_list(expression):\n",
    "    is_float = lambda x: x.replace('.','',1).isdigit() and \".\" in x\n",
    "    L = re.split('([\\-\\+\\/\\*])', expression)\n",
    "    for i in range(len(L)):\n",
    "        if L[i].isnumeric():\n",
    "            L[i] = int(L[i])\n",
    "        elif is_float(L[i]):\n",
    "            L[i] = float(L[i])\n",
    "    return L\n",
    "\n",
    "class EmptyException(Exception):\n",
    "   \"\"\"Raised when the data structure is empty\"\"\"\n",
    "   pass\n",
    "\n",
    "# Array-based stack implementation\n",
    "class ArrayStack:\n",
    "    def __init__(self):\n",
    "        self._data = []\n",
    "    def __len__(self):\n",
    "        return len(self._data)\n",
    "    def is_empty(self):\n",
    "        return len(self) == 0\n",
    "    def push(self, e):\n",
    "        self._data.append(e)\n",
    "    def top(self):\n",
    "        if self.is_empty():\n",
    "            raise EmptyException('Stack is empty')\n",
    "        return self._data[-1]\n",
    "    def pop(self):\n",
    "        if self.is_empty():\n",
    "            raise EmptyException('Stack is empty')\n",
    "        return self._data.pop()\n",
    "\n",
    "# Return the priority of operator\n",
    "def priority(element):\n",
    "    if element in ['-', '+']:\n",
    "        return 1\n",
    "    elif element in ['*', '/']:\n",
    "        return 2\n",
    "\n",
    "# identify whether the item is a number (=operand) or other (=operator)\n",
    "# item: operand or operator (an item of a list converted by to_list)\n",
    "# return: True if operand, False if operator\n",
    "def is_number(item):\n",
    "    return type(item) == int or type(item) == float"
   ]
  },
  {
   "cell_type": "code",
   "execution_count": 2,
   "id": "8a1e089a",
   "metadata": {},
   "outputs": [],
   "source": [
    "# IMPLEMENT THE TWO METHODS BELOW\n",
    "\n",
    "def infix_to_postfix(L):   \n",
    "    s = ArrayStack()\n",
    "    postfix = []\n",
    "    for i in L:\n",
    "        if is_number(i): # operand\n",
    "            postfix.append(i)\n",
    "        else: # operator\n",
    "            if s.is_empty():\n",
    "                s.push(i)\n",
    "            else:\n",
    "                while priority(s.top()) >= priority(i):\n",
    "                    postfix.append(s.pop())\n",
    "                    if s.is_empty():\n",
    "                        break\n",
    "                s.push(i)\n",
    "\n",
    "    while s.is_empty() is False:\n",
    "        postfix.append(s.pop())\n",
    "\n",
    "    return postfix\n",
    "\n",
    "def eval_postfix(L):\n",
    "    s = ArrayStack()\n",
    "\n",
    "    for i in L:\n",
    "        if is_number(i): #operand\n",
    "            s.push(i)\n",
    "        else: #operator\n",
    "            buf2 = s.pop()\n",
    "            buf1 = s.pop()\n",
    "            buf_res = []\n",
    "            buf_res.append(str(buf1))\n",
    "            buf_res.append(i)\n",
    "            buf_res.append(str(buf2))\n",
    "            buf_str = ''.join(buf_res)\n",
    "            s.push(eval(buf_str))\n",
    "    return s.pop()"
   ]
  },
  {
   "cell_type": "code",
   "execution_count": 3,
   "id": "bright-endorsement",
   "metadata": {},
   "outputs": [
    {
     "name": "stdout",
     "output_type": "stream",
     "text": [
      "[1, '+', 2, '/', 3, '*', 4, '-', 5, '*', 6]\n",
      "[1, 2, 3, '/', 4, '*', '+', 5, 6, '*', '-']\n",
      "-26.333333333333332\n"
     ]
    }
   ],
   "source": [
    "expression = to_list('1+2/3*4-5*6')\n",
    "print(expression)\n",
    "L = infix_to_postfix(expression)\n",
    "print(L)\n",
    "result = eval_postfix(L)\n",
    "print(result)"
   ]
  },
  {
   "cell_type": "code",
   "execution_count": 4,
   "id": "found-blocking",
   "metadata": {},
   "outputs": [
    {
     "name": "stdout",
     "output_type": "stream",
     "text": [
      "-26.333333333333332\n",
      "-26.333333333333332\n"
     ]
    }
   ],
   "source": [
    "# or in short, you may try this\n",
    "print(eval_postfix(infix_to_postfix(to_list('1+2/3*4-5*6'))))\n",
    "print(1+2/3*4-5*6)"
   ]
  },
  {
   "cell_type": "code",
   "execution_count": 5,
   "id": "b198b862",
   "metadata": {},
   "outputs": [],
   "source": [
    "# Add your test cases as you wish"
   ]
  },
  {
   "cell_type": "code",
   "execution_count": null,
   "id": "1e03db54",
   "metadata": {},
   "outputs": [],
   "source": []
  }
 ],
 "metadata": {
  "kernelspec": {
   "display_name": "Python 3 (ipykernel)",
   "language": "python",
   "name": "python3"
  },
  "language_info": {
   "codemirror_mode": {
    "name": "ipython",
    "version": 3
   },
   "file_extension": ".py",
   "mimetype": "text/x-python",
   "name": "python",
   "nbconvert_exporter": "python",
   "pygments_lexer": "ipython3",
   "version": "3.9.12"
  }
 },
 "nbformat": 4,
 "nbformat_minor": 5
}
